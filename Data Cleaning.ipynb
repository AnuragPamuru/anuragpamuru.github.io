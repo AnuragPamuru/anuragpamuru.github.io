{
 "cells": [
  {
   "cell_type": "code",
   "execution_count": 1,
   "metadata": {},
   "outputs": [],
   "source": [
    "import pandas as pd"
   ]
  },
  {
   "cell_type": "markdown",
   "metadata": {},
   "source": [
    "# Merge Phantom Buster .csvs \n",
    "These .csvs contain broad data about each of the accounts that the 100 Senators of the 116th Congress follow."
   ]
  },
  {
   "cell_type": "code",
   "execution_count": 2,
   "metadata": {},
   "outputs": [],
   "source": [
    "out = pd.DataFrame()\n",
    "for i in range(10):\n",
    "    out = out.append(pd.read_csv(\"data/raw/raw{0}.csv\".format(\"_\" + str(i) if i != 0 else \"\"))[[\"screenName\", \"query\"]])"
   ]
  },
  {
   "cell_type": "markdown",
   "metadata": {},
   "source": [
    "# Filter the CSVs to only contain followed-following relationships between Senators"
   ]
  },
  {
   "cell_type": "code",
   "execution_count": 3,
   "metadata": {},
   "outputs": [],
   "source": [
    "handles = pd.read_csv(\"data/raw/handles.csv\")\n",
    "\n",
    "out = out[out[\"screenName\"].isin(handles[\"Handle\"])]\n",
    "out[\"query\"] = out[\"query\"].apply(lambda x : x.split(\"/\")[-1])\n",
    "out = out.reset_index(drop = True)\n",
    "out.columns = [\"followed\", \"following\"]"
   ]
  },
  {
   "cell_type": "code",
   "execution_count": 4,
   "metadata": {},
   "outputs": [],
   "source": [
    "hand_to_name = dict(zip(handles[\"Handle\"], handles[\"Name\"]))"
   ]
  },
  {
   "cell_type": "code",
   "execution_count": 5,
   "metadata": {},
   "outputs": [],
   "source": [
    "out.assign(followed = out.followed.apply(lambda x: hand_to_name[x]),\n",
    "           following = out.following.apply(lambda x: hand_to_name[x])).to_csv(\"data/edges.csv\", index = False)"
   ]
  },
  {
   "cell_type": "code",
   "execution_count": 5,
   "metadata": {},
   "outputs": [
    {
     "data": {
      "text/plain": [
       "98"
      ]
     },
     "execution_count": 5,
     "metadata": {},
     "output_type": "execute_result"
    }
   ],
   "source": [
    "pd.read_csv(\"data/tweets.csv\")[\"Senator Name\"].nunique()"
   ]
  }
 ],
 "metadata": {
  "kernelspec": {
   "display_name": "Python 3",
   "language": "python",
   "name": "python3"
  },
  "language_info": {
   "codemirror_mode": {
    "name": "ipython",
    "version": 3
   },
   "file_extension": ".py",
   "mimetype": "text/x-python",
   "name": "python",
   "nbconvert_exporter": "python",
   "pygments_lexer": "ipython3",
   "version": "3.7.3"
  }
 },
 "nbformat": 4,
 "nbformat_minor": 2
}
