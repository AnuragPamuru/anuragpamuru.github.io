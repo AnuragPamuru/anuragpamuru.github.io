{
 "cells": [
  {
   "cell_type": "code",
   "execution_count": 4,
   "metadata": {},
   "outputs": [],
   "source": [
    "import sys\n",
    "sys.path.append('../src')\n",
    "from data_loader import data_loader\n",
    "from GCN_model import n_hidden_GCN\n",
    "# from data import get_data"
   ]
  },
  {
   "cell_type": "code",
   "execution_count": 3,
   "metadata": {},
   "outputs": [],
   "source": [
    "loader = data_loader(\"../data/voting_features.csv\", \"../data/edges.csv\")\n",
    "features, labels, A = loader.get_data()"
   ]
  },
  {
   "cell_type": "code",
   "execution_count": 6,
   "metadata": {},
   "outputs": [
    {
     "name": "stderr",
     "output_type": "stream",
     "text": [
      "../src/GCN_model.py:47: UserWarning: To copy construct from a tensor, it is recommended to use sourceTensor.clone().detach() or sourceTensor.clone().detach().requires_grad_(True), rather than torch.tensor(sourceTensor).\n",
      "  X = torch.tensor(X)\n"
     ]
    },
    {
     "ename": "AssertionError",
     "evalue": "Torch not compiled with CUDA enabled",
     "output_type": "error",
     "traceback": [
      "\u001b[0;31m---------------------------------------------------------------------------\u001b[0m",
      "\u001b[0;31mAssertionError\u001b[0m                            Traceback (most recent call last)",
      "\u001b[0;32m<ipython-input-6-d29d1b57fb1b>\u001b[0m in \u001b[0;36m<module>\u001b[0;34m\u001b[0m\n\u001b[0;32m----> 1\u001b[0;31m \u001b[0mmodel\u001b[0m \u001b[0;34m=\u001b[0m \u001b[0mn_hidden_GCN\u001b[0m\u001b[0;34m(\u001b[0m\u001b[0mA\u001b[0m\u001b[0;34m,\u001b[0m \u001b[0mfeatures\u001b[0m\u001b[0;34m,\u001b[0m \u001b[0mlabels\u001b[0m\u001b[0;34m,\u001b[0m \u001b[0mhidden_neurons\u001b[0m\u001b[0;34m=\u001b[0m\u001b[0;36m200\u001b[0m\u001b[0;34m)\u001b[0m\u001b[0;34m\u001b[0m\u001b[0;34m\u001b[0m\u001b[0m\n\u001b[0m\u001b[1;32m      2\u001b[0m \u001b[0mmodel\u001b[0m\u001b[0;34m.\u001b[0m\u001b[0mtrain_epoch\u001b[0m\u001b[0;34m(\u001b[0m\u001b[0mepochs\u001b[0m\u001b[0;34m=\u001b[0m\u001b[0;36m1\u001b[0m\u001b[0;34m,\u001b[0m \u001b[0mlr\u001b[0m\u001b[0;34m=\u001b[0m\u001b[0;36m1e-3\u001b[0m\u001b[0;34m)\u001b[0m\u001b[0;34m\u001b[0m\u001b[0;34m\u001b[0m\u001b[0m\n",
      "\u001b[0;32m~/Documents/GitHub/b01-group3-pa/src/GCN_model.py\u001b[0m in \u001b[0;36m__init__\u001b[0;34m(self, A, X, y, device, N, F, class_number, hidden_neurons, self_weight, val_size)\u001b[0m\n\u001b[1;32m     49\u001b[0m         \u001b[0my\u001b[0m \u001b[0;34m=\u001b[0m \u001b[0mtorch\u001b[0m\u001b[0;34m.\u001b[0m\u001b[0mtensor\u001b[0m\u001b[0;34m(\u001b[0m\u001b[0my\u001b[0m\u001b[0;34m)\u001b[0m\u001b[0;34m\u001b[0m\u001b[0;34m\u001b[0m\u001b[0m\n\u001b[1;32m     50\u001b[0m         \u001b[0my\u001b[0m \u001b[0;34m=\u001b[0m \u001b[0my\u001b[0m\u001b[0;34m.\u001b[0m\u001b[0mtype\u001b[0m\u001b[0;34m(\u001b[0m\u001b[0mtorch\u001b[0m\u001b[0;34m.\u001b[0m\u001b[0mlong\u001b[0m\u001b[0;34m)\u001b[0m\u001b[0;34m\u001b[0m\u001b[0;34m\u001b[0m\u001b[0m\n\u001b[0;32m---> 51\u001b[0;31m         \u001b[0my\u001b[0m \u001b[0;34m=\u001b[0m \u001b[0my\u001b[0m\u001b[0;34m.\u001b[0m\u001b[0mto\u001b[0m\u001b[0;34m(\u001b[0m\u001b[0mself\u001b[0m\u001b[0;34m.\u001b[0m\u001b[0mdevice\u001b[0m\u001b[0;34m)\u001b[0m\u001b[0;34m\u001b[0m\u001b[0;34m\u001b[0m\u001b[0m\n\u001b[0m\u001b[1;32m     52\u001b[0m \u001b[0;34m\u001b[0m\u001b[0m\n\u001b[1;32m     53\u001b[0m         \u001b[0;32mif\u001b[0m \u001b[0mA\u001b[0m\u001b[0;34m[\u001b[0m\u001b[0;36m0\u001b[0m\u001b[0;34m]\u001b[0m\u001b[0;34m[\u001b[0m\u001b[0;36m0\u001b[0m\u001b[0;34m]\u001b[0m \u001b[0;34m==\u001b[0m \u001b[0;36m0\u001b[0m\u001b[0;34m:\u001b[0m\u001b[0;34m\u001b[0m\u001b[0;34m\u001b[0m\u001b[0m\n",
      "\u001b[0;32m/anaconda3/lib/python3.7/site-packages/torch/cuda/__init__.py\u001b[0m in \u001b[0;36m_lazy_init\u001b[0;34m()\u001b[0m\n\u001b[1;32m    194\u001b[0m             raise RuntimeError(\n\u001b[1;32m    195\u001b[0m                 \"Cannot re-initialize CUDA in forked subprocess. \" + msg)\n\u001b[0;32m--> 196\u001b[0;31m         \u001b[0m_check_driver\u001b[0m\u001b[0;34m(\u001b[0m\u001b[0;34m)\u001b[0m\u001b[0;34m\u001b[0m\u001b[0;34m\u001b[0m\u001b[0m\n\u001b[0m\u001b[1;32m    197\u001b[0m         \u001b[0mtorch\u001b[0m\u001b[0;34m.\u001b[0m\u001b[0m_C\u001b[0m\u001b[0;34m.\u001b[0m\u001b[0m_cuda_init\u001b[0m\u001b[0;34m(\u001b[0m\u001b[0;34m)\u001b[0m\u001b[0;34m\u001b[0m\u001b[0;34m\u001b[0m\u001b[0m\n\u001b[1;32m    198\u001b[0m         \u001b[0m_cudart\u001b[0m \u001b[0;34m=\u001b[0m \u001b[0m_load_cudart\u001b[0m\u001b[0;34m(\u001b[0m\u001b[0;34m)\u001b[0m\u001b[0;34m\u001b[0m\u001b[0;34m\u001b[0m\u001b[0m\n",
      "\u001b[0;32m/anaconda3/lib/python3.7/site-packages/torch/cuda/__init__.py\u001b[0m in \u001b[0;36m_check_driver\u001b[0;34m()\u001b[0m\n\u001b[1;32m     92\u001b[0m \u001b[0;32mdef\u001b[0m \u001b[0m_check_driver\u001b[0m\u001b[0;34m(\u001b[0m\u001b[0;34m)\u001b[0m\u001b[0;34m:\u001b[0m\u001b[0;34m\u001b[0m\u001b[0;34m\u001b[0m\u001b[0m\n\u001b[1;32m     93\u001b[0m     \u001b[0;32mif\u001b[0m \u001b[0;32mnot\u001b[0m \u001b[0mhasattr\u001b[0m\u001b[0;34m(\u001b[0m\u001b[0mtorch\u001b[0m\u001b[0;34m.\u001b[0m\u001b[0m_C\u001b[0m\u001b[0;34m,\u001b[0m \u001b[0;34m'_cuda_isDriverSufficient'\u001b[0m\u001b[0;34m)\u001b[0m\u001b[0;34m:\u001b[0m\u001b[0;34m\u001b[0m\u001b[0;34m\u001b[0m\u001b[0m\n\u001b[0;32m---> 94\u001b[0;31m         \u001b[0;32mraise\u001b[0m \u001b[0mAssertionError\u001b[0m\u001b[0;34m(\u001b[0m\u001b[0;34m\"Torch not compiled with CUDA enabled\"\u001b[0m\u001b[0;34m)\u001b[0m\u001b[0;34m\u001b[0m\u001b[0;34m\u001b[0m\u001b[0m\n\u001b[0m\u001b[1;32m     95\u001b[0m     \u001b[0;32mif\u001b[0m \u001b[0;32mnot\u001b[0m \u001b[0mtorch\u001b[0m\u001b[0;34m.\u001b[0m\u001b[0m_C\u001b[0m\u001b[0;34m.\u001b[0m\u001b[0m_cuda_isDriverSufficient\u001b[0m\u001b[0;34m(\u001b[0m\u001b[0;34m)\u001b[0m\u001b[0;34m:\u001b[0m\u001b[0;34m\u001b[0m\u001b[0;34m\u001b[0m\u001b[0m\n\u001b[1;32m     96\u001b[0m         \u001b[0;32mif\u001b[0m \u001b[0mtorch\u001b[0m\u001b[0;34m.\u001b[0m\u001b[0m_C\u001b[0m\u001b[0;34m.\u001b[0m\u001b[0m_cuda_getDriverVersion\u001b[0m\u001b[0;34m(\u001b[0m\u001b[0;34m)\u001b[0m \u001b[0;34m==\u001b[0m \u001b[0;36m0\u001b[0m\u001b[0;34m:\u001b[0m\u001b[0;34m\u001b[0m\u001b[0;34m\u001b[0m\u001b[0m\n",
      "\u001b[0;31mAssertionError\u001b[0m: Torch not compiled with CUDA enabled"
     ]
    }
   ],
   "source": [
    "model = n_hidden_GCN(A, features, labels, hidden_neurons=200)\n",
    "model.train_epoch(epochs=1, lr=1e-3)"
   ]
  },
  {
   "cell_type": "code",
   "execution_count": 9,
   "metadata": {},
   "outputs": [
    {
     "data": {
      "text/html": [
       "<div>\n",
       "<style scoped>\n",
       "    .dataframe tbody tr th:only-of-type {\n",
       "        vertical-align: middle;\n",
       "    }\n",
       "\n",
       "    .dataframe tbody tr th {\n",
       "        vertical-align: top;\n",
       "    }\n",
       "\n",
       "    .dataframe thead th {\n",
       "        text-align: right;\n",
       "    }\n",
       "</style>\n",
       "<table border=\"1\" class=\"dataframe\">\n",
       "  <thead>\n",
       "    <tr style=\"text-align: right;\">\n",
       "      <th></th>\n",
       "      <th>Name</th>\n",
       "      <th>Handle</th>\n",
       "      <th>Party</th>\n",
       "    </tr>\n",
       "  </thead>\n",
       "  <tbody>\n",
       "    <tr>\n",
       "      <th>0</th>\n",
       "      <td>AK Lisa Murkowski</td>\n",
       "      <td>lisamurkowski</td>\n",
       "      <td>R</td>\n",
       "    </tr>\n",
       "    <tr>\n",
       "      <th>1</th>\n",
       "      <td>AK Dan Sullivan</td>\n",
       "      <td>SenDanSullivan</td>\n",
       "      <td>R</td>\n",
       "    </tr>\n",
       "    <tr>\n",
       "      <th>2</th>\n",
       "      <td>AL Doug Jones</td>\n",
       "      <td>SenDougJones</td>\n",
       "      <td>D</td>\n",
       "    </tr>\n",
       "    <tr>\n",
       "      <th>3</th>\n",
       "      <td>AL Richard C. Shelby</td>\n",
       "      <td>SenShelby</td>\n",
       "      <td>R</td>\n",
       "    </tr>\n",
       "    <tr>\n",
       "      <th>4</th>\n",
       "      <td>AR John Boozman</td>\n",
       "      <td>JohnBoozman</td>\n",
       "      <td>R</td>\n",
       "    </tr>\n",
       "    <tr>\n",
       "      <th>...</th>\n",
       "      <td>...</td>\n",
       "      <td>...</td>\n",
       "      <td>...</td>\n",
       "    </tr>\n",
       "    <tr>\n",
       "      <th>95</th>\n",
       "      <td>WI Ron Johnson</td>\n",
       "      <td>SenRonJohnson</td>\n",
       "      <td>R</td>\n",
       "    </tr>\n",
       "    <tr>\n",
       "      <th>96</th>\n",
       "      <td>WV Shelley Moore Capito</td>\n",
       "      <td>SenCapito</td>\n",
       "      <td>R</td>\n",
       "    </tr>\n",
       "    <tr>\n",
       "      <th>97</th>\n",
       "      <td>WV Joe Manchin III</td>\n",
       "      <td>Sen_JoeManchin</td>\n",
       "      <td>D</td>\n",
       "    </tr>\n",
       "    <tr>\n",
       "      <th>98</th>\n",
       "      <td>WY John Barrasso</td>\n",
       "      <td>SenJohnBarrasso</td>\n",
       "      <td>R</td>\n",
       "    </tr>\n",
       "    <tr>\n",
       "      <th>99</th>\n",
       "      <td>WY Michael B. Enzi</td>\n",
       "      <td>SenatorEnzi</td>\n",
       "      <td>R</td>\n",
       "    </tr>\n",
       "  </tbody>\n",
       "</table>\n",
       "<p>100 rows × 3 columns</p>\n",
       "</div>"
      ],
      "text/plain": [
       "                       Name           Handle Party\n",
       "0         AK Lisa Murkowski    lisamurkowski     R\n",
       "1           AK Dan Sullivan   SenDanSullivan     R\n",
       "2             AL Doug Jones     SenDougJones     D\n",
       "3      AL Richard C. Shelby        SenShelby     R\n",
       "4           AR John Boozman      JohnBoozman     R\n",
       "..                      ...              ...   ...\n",
       "95           WI Ron Johnson    SenRonJohnson     R\n",
       "96  WV Shelley Moore Capito        SenCapito     R\n",
       "97       WV Joe Manchin III   Sen_JoeManchin     D\n",
       "98         WY John Barrasso  SenJohnBarrasso     R\n",
       "99       WY Michael B. Enzi      SenatorEnzi     R\n",
       "\n",
       "[100 rows x 3 columns]"
      ]
     },
     "execution_count": 9,
     "metadata": {},
     "output_type": "execute_result"
    }
   ],
   "source": [
    "import pandas as pd\n",
    "edges = pd.read_csv(\"../data/raw/handles.csv\")\n",
    "edges"
   ]
  },
  {
   "cell_type": "code",
   "execution_count": 6,
   "metadata": {},
   "outputs": [],
   "source": [
    "rows, cols = edges[0], edges[1]"
   ]
  },
  {
   "cell_type": "code",
   "execution_count": 7,
   "metadata": {},
   "outputs": [
    {
     "data": {
      "text/plain": [
       "0                      followed\n",
       "1                UT Mitt Romney\n",
       "2           CA Kamala D. Harris\n",
       "3           MD Chris Van Hollen\n",
       "4       NH Margaret Wood Hassan\n",
       "                 ...           \n",
       "3817        ME Susan M. Collins\n",
       "3818       IL Richard J. Durbin\n",
       "3819               OR Ron Wyden\n",
       "3820      NY Charles E. Schumer\n",
       "3821      CT Christopher Murphy\n",
       "Name: 0, Length: 3822, dtype: object"
      ]
     },
     "execution_count": 7,
     "metadata": {},
     "output_type": "execute_result"
    }
   ],
   "source": [
    "rows"
   ]
  },
  {
   "cell_type": "code",
   "execution_count": null,
   "metadata": {},
   "outputs": [],
   "source": []
  },
  {
   "cell_type": "code",
   "execution_count": 76,
   "metadata": {},
   "outputs": [],
   "source": [
    "import numpy as np\n",
    "import networkx as nx\n",
    "import pandas as pd\n",
    "import torch\n",
    "class data_loader():\n",
    "    def __init__(self, feature_address, edges_address, directed = False):\n",
    "        features = pd.read_csv(feature_address)\n",
    "        print(features)\n",
    "        edges = pd.read_csv(edges_address)\n",
    "\n",
    "        #adjacency matrix\n",
    "        adj = self.get_adj(edges, directed)    \n",
    "    \n",
    "        self.labels = torch.LongTensor(features['79'])    \n",
    "        self.features = np.array(features.iloc[:, 1:features.shape[1]-1])\n",
    "        self.features = torch.FloatTensor(self.features)\n",
    "\n",
    "        self.A = torch.from_numpy(adj).float()\n",
    "    def get_adj(self, edges, directed):\n",
    "        rows, cols = edges[\"followed\"], edges[\"following\"]\n",
    "    \n",
    "        nodes = list(set(rows).union(set(cols)))\n",
    "        n_nodes = len(nodes)\n",
    "    \n",
    "        node_index = {}\n",
    "        for i in np.arange(len(nodes)):\n",
    "            node_index[nodes[i]] = i\n",
    "            i += 1\n",
    "    \n",
    "        adj = np.zeros((n_nodes, n_nodes), dtype='float32')\n",
    "\n",
    "        for i in range(len(edges)):\n",
    "            adj[node_index[rows[i]], node_index[cols[i]]]  = 1.0\n",
    "            if not directed: \n",
    "                adj[node_index[cols[i]], node_index[rows[i]]]  = 1.0 \n",
    "            \n",
    "        return adj\n",
    "    \n",
    "    def get_data(self):\n",
    "        return self.features, self.labels, self.A\n"
   ]
  },
  {
   "cell_type": "code",
   "execution_count": 78,
   "metadata": {},
   "outputs": [
    {
     "name": "stdout",
     "output_type": "stream",
     "text": [
      "               Senator Name  0  1  2  3  4  5  6  7  8  ...  70  71  72  73  \\\n",
      "0           AK Dan Sullivan  0  0  0  0  2  2  2  2  0  ...   0   0   0   0   \n",
      "1         AK Lisa Murkowski  0  0  0  0  2  2  0  2  0  ...   0   0   0   0   \n",
      "2             AL Doug Jones  0  0  0  0  0  0  0  2  0  ...   0   2   2   2   \n",
      "3      AL Richard C. Shelby  0  0  0  0  2  2  2  2  0  ...   0   0   0   0   \n",
      "4           AR John Boozman  0  0  0  0  2  2  2  2  0  ...   0   0   0   0   \n",
      "..                      ... .. .. .. .. .. .. .. .. ..  ...  ..  ..  ..  ..   \n",
      "95         WI Tammy Baldwin  0  0  0  0  0  0  0  0  2  ...   2   2   2   2   \n",
      "96       WV Joe Manchin III  0  0  0  0  0  0  0  2  0  ...   0   2   2   2   \n",
      "97  WV Shelley Moore Capito  0  0  0  0  2  2  2  2  0  ...   0   0   0   0   \n",
      "98         WY John Barrasso  0  0  0  0  2  2  2  2  0  ...   0   0   0   0   \n",
      "99       WY Michael B. Enzi  2  2  2  0  2  2  2  2  0  ...   0   0   0   0   \n",
      "\n",
      "    74  75  76  77  78  79  \n",
      "0    0   0   0   0   0   0  \n",
      "1    0   0   0   0   0   0  \n",
      "2    2   2   2   2   2   1  \n",
      "3    0   0   0   0   0   0  \n",
      "4    0   0   0   0   0   0  \n",
      "..  ..  ..  ..  ..  ..  ..  \n",
      "95   2   2   2   2   2   1  \n",
      "96   2   2   2   2   2   1  \n",
      "97   0   0   0   0   0   0  \n",
      "98   0   0   0   0   0   0  \n",
      "99   0   0   0   0   0   0  \n",
      "\n",
      "[100 rows x 81 columns]\n"
     ]
    }
   ],
   "source": [
    "loader = data_loader(\"../data/voting_features.csv\", \"../data/edges.csv\")"
   ]
  },
  {
   "cell_type": "code",
   "execution_count": 85,
   "metadata": {},
   "outputs": [
    {
     "data": {
      "text/plain": [
       "100"
      ]
     },
     "execution_count": 85,
     "metadata": {},
     "output_type": "execute_result"
    }
   ],
   "source": [
    "features, labels, A = loader.get_data()\n",
    "len(A)"
   ]
  },
  {
   "cell_type": "code",
   "execution_count": 61,
   "metadata": {},
   "outputs": [],
   "source": [
    "voting = pd.read_csv(\"../data/voting_data.csv\")"
   ]
  },
  {
   "cell_type": "code",
   "execution_count": 65,
   "metadata": {},
   "outputs": [
    {
     "data": {
      "text/html": [
       "<div>\n",
       "<style scoped>\n",
       "    .dataframe tbody tr th:only-of-type {\n",
       "        vertical-align: middle;\n",
       "    }\n",
       "\n",
       "    .dataframe tbody tr th {\n",
       "        vertical-align: top;\n",
       "    }\n",
       "\n",
       "    .dataframe thead th {\n",
       "        text-align: right;\n",
       "    }\n",
       "</style>\n",
       "<table border=\"1\" class=\"dataframe\">\n",
       "  <thead>\n",
       "    <tr style=\"text-align: right;\">\n",
       "      <th></th>\n",
       "      <th>Senator Name</th>\n",
       "      <th>Decision</th>\n",
       "      <th>Bill</th>\n",
       "    </tr>\n",
       "  </thead>\n",
       "  <tbody>\n",
       "    <tr>\n",
       "      <th>0</th>\n",
       "      <td>TN Lamar Alexander</td>\n",
       "      <td>Yea</td>\n",
       "      <td>0</td>\n",
       "    </tr>\n",
       "    <tr>\n",
       "      <th>1</th>\n",
       "      <td>WI Tammy Baldwin</td>\n",
       "      <td>Yea</td>\n",
       "      <td>0</td>\n",
       "    </tr>\n",
       "    <tr>\n",
       "      <th>2</th>\n",
       "      <td>WY John Barrasso</td>\n",
       "      <td>Yea</td>\n",
       "      <td>0</td>\n",
       "    </tr>\n",
       "    <tr>\n",
       "      <th>3</th>\n",
       "      <td>CO Michael F. Bennet</td>\n",
       "      <td>Yea</td>\n",
       "      <td>0</td>\n",
       "    </tr>\n",
       "    <tr>\n",
       "      <th>4</th>\n",
       "      <td>TN Marsha Blackburn</td>\n",
       "      <td>Yea</td>\n",
       "      <td>0</td>\n",
       "    </tr>\n",
       "    <tr>\n",
       "      <th>...</th>\n",
       "      <td>...</td>\n",
       "      <td>...</td>\n",
       "      <td>...</td>\n",
       "    </tr>\n",
       "    <tr>\n",
       "      <th>7895</th>\n",
       "      <td>MA Elizabeth Warren</td>\n",
       "      <td>Nay</td>\n",
       "      <td>78</td>\n",
       "    </tr>\n",
       "    <tr>\n",
       "      <th>7896</th>\n",
       "      <td>RI Sheldon Whitehouse</td>\n",
       "      <td>Nay</td>\n",
       "      <td>78</td>\n",
       "    </tr>\n",
       "    <tr>\n",
       "      <th>7897</th>\n",
       "      <td>MS Roger F. Wicker</td>\n",
       "      <td>Yea</td>\n",
       "      <td>78</td>\n",
       "    </tr>\n",
       "    <tr>\n",
       "      <th>7898</th>\n",
       "      <td>OR Ron Wyden</td>\n",
       "      <td>Nay</td>\n",
       "      <td>78</td>\n",
       "    </tr>\n",
       "    <tr>\n",
       "      <th>7899</th>\n",
       "      <td>IN Todd Young</td>\n",
       "      <td>Yea</td>\n",
       "      <td>78</td>\n",
       "    </tr>\n",
       "  </tbody>\n",
       "</table>\n",
       "<p>7900 rows × 3 columns</p>\n",
       "</div>"
      ],
      "text/plain": [
       "               Senator Name Decision  Bill\n",
       "0        TN Lamar Alexander      Yea     0\n",
       "1          WI Tammy Baldwin      Yea     0\n",
       "2          WY John Barrasso      Yea     0\n",
       "3      CO Michael F. Bennet      Yea     0\n",
       "4       TN Marsha Blackburn      Yea     0\n",
       "...                     ...      ...   ...\n",
       "7895    MA Elizabeth Warren      Nay    78\n",
       "7896  RI Sheldon Whitehouse      Nay    78\n",
       "7897     MS Roger F. Wicker      Yea    78\n",
       "7898           OR Ron Wyden      Nay    78\n",
       "7899          IN Todd Young      Yea    78\n",
       "\n",
       "[7900 rows x 3 columns]"
      ]
     },
     "execution_count": 65,
     "metadata": {},
     "output_type": "execute_result"
    }
   ],
   "source": [
    "voting[\"Decision\"] = voting[\"\"]"
   ]
  },
  {
   "cell_type": "code",
   "execution_count": 63,
   "metadata": {},
   "outputs": [
    {
     "data": {
      "text/plain": [
       "VA Tim Kaine            79\n",
       "WY John Barrasso        79\n",
       "MI Debbie Stabenow      79\n",
       "MN Tina Smith           79\n",
       "CA Dianne Feinstein     79\n",
       "                        ..\n",
       "ND Kevin Cramer         79\n",
       "AL Richard C. Shelby    79\n",
       "LA Bill Cassidy         79\n",
       "TX Ted Cruz             79\n",
       "ME Susan M. Collins     79\n",
       "Name: Senator Name, Length: 100, dtype: int64"
      ]
     },
     "execution_count": 63,
     "metadata": {},
     "output_type": "execute_result"
    }
   ],
   "source": []
  },
  {
   "cell_type": "code",
   "execution_count": null,
   "metadata": {},
   "outputs": [],
   "source": []
  }
 ],
 "metadata": {
  "kernelspec": {
   "display_name": "Python 3",
   "language": "python",
   "name": "python3"
  },
  "language_info": {
   "codemirror_mode": {
    "name": "ipython",
    "version": 3
   },
   "file_extension": ".py",
   "mimetype": "text/x-python",
   "name": "python",
   "nbconvert_exporter": "python",
   "pygments_lexer": "ipython3",
   "version": "3.7.3"
  }
 },
 "nbformat": 4,
 "nbformat_minor": 2
}
